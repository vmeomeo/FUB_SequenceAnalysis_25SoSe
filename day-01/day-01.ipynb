{
 "cells": [
  {
   "cell_type": "code",
   "execution_count": 1,
   "id": "9d44ccf8",
   "metadata": {},
   "outputs": [],
   "source": [
    "import os\n",
    "import snakemake"
   ]
  },
  {
   "cell_type": "code",
   "execution_count": null,
   "id": "9496a4ce",
   "metadata": {},
   "outputs": [],
   "source": [
    "default_path = \"../data/sam/tiny/*.sam\"\n",
    "mypath = input(f\"Please type your path to input file (sam): [Default = {default_path}] \") or default_path\n",
    "print(\"You selected:\", mypath)"
   ]
  },
  {
   "cell_type": "code",
   "execution_count": 2,
   "id": "39611a56",
   "metadata": {},
   "outputs": [],
   "source": [
    "mypath = '../data/sam/tiny'"
   ]
  },
  {
   "cell_type": "code",
   "execution_count": 2,
   "id": "fff0e2c9",
   "metadata": {},
   "outputs": [],
   "source": [
    "mypath = '../data/fastq/tiny'"
   ]
  },
  {
   "cell_type": "code",
   "execution_count": 3,
   "id": "5ef85195",
   "metadata": {},
   "outputs": [],
   "source": [
    "files = [f for f in os.listdir(mypath) if os.path.isfile(os.path.join(mypath, f))]"
   ]
  },
  {
   "cell_type": "code",
   "execution_count": 3,
   "id": "ae9a2bb0",
   "metadata": {},
   "outputs": [
    {
     "data": {
      "text/plain": [
       "['ERR024604_tiny',\n",
       " 'ERR024609_tiny',\n",
       " 'ERR024604_tiny',\n",
       " 'ERR024606_tiny',\n",
       " 'ERR024607_tiny',\n",
       " 'ERR024605_tiny',\n",
       " 'ERR024608_tiny',\n",
       " 'ERR024605_tiny',\n",
       " 'ERR024609_tiny',\n",
       " 'ERR024606_tiny',\n",
       " 'ERR024608_tiny',\n",
       " 'ERR024607_tiny']"
      ]
     },
     "execution_count": 3,
     "metadata": {},
     "output_type": "execute_result"
    }
   ],
   "source": [
    "[f[:-11] for f in os.listdir(mypath) if os.path.isfile(os.path.join(mypath, f))]"
   ]
  },
  {
   "cell_type": "code",
   "execution_count": 4,
   "id": "85e5918c",
   "metadata": {},
   "outputs": [
    {
     "data": {
      "text/plain": [
       "['ERR024605_tiny.sam',\n",
       " 'ERR024608_tiny.sam',\n",
       " 'ERR024607_tiny.sam',\n",
       " 'ERR024604_tiny.sam',\n",
       " 'ERR024609_tiny.sam',\n",
       " 'ERR024606_tiny.sam']"
      ]
     },
     "execution_count": 4,
     "metadata": {},
     "output_type": "execute_result"
    }
   ],
   "source": [
    "files"
   ]
  },
  {
   "cell_type": "code",
   "execution_count": null,
   "id": "a866d958",
   "metadata": {},
   "outputs": [],
   "source": [
    "from snakemake import snakemake\n",
    "\n",
    "success = snakemake(\n",
    "    snakefile=\"Snakefile\",\n",
    "    cores=1,\n",
    "    use_conda=True,\n",
    "    dryrun=False\n",
    ")\n"
   ]
  },
  {
   "cell_type": "code",
   "execution_count": null,
   "id": "5420ce2b",
   "metadata": {},
   "outputs": [],
   "source": []
  }
 ],
 "metadata": {
  "kernelspec": {
   "display_name": "bioseq",
   "language": "python",
   "name": "python3"
  },
  "language_info": {
   "codemirror_mode": {
    "name": "ipython",
    "version": 3
   },
   "file_extension": ".py",
   "mimetype": "text/x-python",
   "name": "python",
   "nbconvert_exporter": "python",
   "pygments_lexer": "ipython3",
   "version": "3.10.14"
  }
 },
 "nbformat": 4,
 "nbformat_minor": 5
}
