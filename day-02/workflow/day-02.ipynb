{
 "cells": [
  {
   "cell_type": "code",
   "execution_count": 1,
   "id": "9d44ccf8",
   "metadata": {},
   "outputs": [],
   "source": [
    "import os\n",
    "import snakemake\n",
    "import pandas as pd"
   ]
  },
  {
   "cell_type": "code",
   "execution_count": null,
   "id": "9496a4ce",
   "metadata": {},
   "outputs": [],
   "source": [
    "default_path = \"../data/sam/tiny/*.sam\"\n",
    "mypath = input(f\"Please type your path to input file (sam): [Default = {default_path}] \") or default_path\n",
    "print(\"You selected:\", mypath)"
   ]
  },
  {
   "cell_type": "code",
   "execution_count": 2,
   "id": "39611a56",
   "metadata": {},
   "outputs": [],
   "source": [
    "mypath = '../data/sam/tiny'"
   ]
  },
  {
   "cell_type": "code",
   "execution_count": 2,
   "id": "fff0e2c9",
   "metadata": {},
   "outputs": [],
   "source": [
    "mypath = '../data/fastq/tiny'"
   ]
  },
  {
   "cell_type": "code",
   "execution_count": 3,
   "id": "5ef85195",
   "metadata": {},
   "outputs": [],
   "source": [
    "files = [f for f in os.listdir(mypath) if os.path.isfile(os.path.join(mypath, f))]"
   ]
  },
  {
   "cell_type": "code",
   "execution_count": 3,
   "id": "ae9a2bb0",
   "metadata": {},
   "outputs": [
    {
     "data": {
      "text/plain": [
       "['ERR024604_tiny',\n",
       " 'ERR024609_tiny',\n",
       " 'ERR024604_tiny',\n",
       " 'ERR024606_tiny',\n",
       " 'ERR024607_tiny',\n",
       " 'ERR024605_tiny',\n",
       " 'ERR024608_tiny',\n",
       " 'ERR024605_tiny',\n",
       " 'ERR024609_tiny',\n",
       " 'ERR024606_tiny',\n",
       " 'ERR024608_tiny',\n",
       " 'ERR024607_tiny']"
      ]
     },
     "execution_count": 3,
     "metadata": {},
     "output_type": "execute_result"
    }
   ],
   "source": [
    "[f[:-11] for f in os.listdir(mypath) if os.path.isfile(os.path.join(mypath, f))]"
   ]
  },
  {
   "cell_type": "code",
   "execution_count": 4,
   "id": "85e5918c",
   "metadata": {},
   "outputs": [
    {
     "data": {
      "text/plain": [
       "['ERR024605_tiny.sam',\n",
       " 'ERR024608_tiny.sam',\n",
       " 'ERR024607_tiny.sam',\n",
       " 'ERR024604_tiny.sam',\n",
       " 'ERR024609_tiny.sam',\n",
       " 'ERR024606_tiny.sam']"
      ]
     },
     "execution_count": 4,
     "metadata": {},
     "output_type": "execute_result"
    }
   ],
   "source": [
    "files"
   ]
  },
  {
   "cell_type": "code",
   "execution_count": null,
   "id": "a866d958",
   "metadata": {},
   "outputs": [],
   "source": [
    "from snakemake import snakemake\n",
    "\n",
    "success = snakemake(\n",
    "    snakefile=\"Snakefile\",\n",
    "    cores=1,\n",
    "    use_conda=True,\n",
    "    dryrun=False\n",
    ")\n"
   ]
  },
  {
   "cell_type": "code",
   "execution_count": 2,
   "id": "5420ce2b",
   "metadata": {},
   "outputs": [],
   "source": [
    "samples = pd.read_csv(\"../config/samples.tsv\", index_col = \"sample\", sep ='\\t')"
   ]
  },
  {
   "cell_type": "code",
   "execution_count": 3,
   "id": "0d67a509",
   "metadata": {},
   "outputs": [
    {
     "data": {
      "text/html": [
       "<div>\n",
       "<style scoped>\n",
       "    .dataframe tbody tr th:only-of-type {\n",
       "        vertical-align: middle;\n",
       "    }\n",
       "\n",
       "    .dataframe tbody tr th {\n",
       "        vertical-align: top;\n",
       "    }\n",
       "\n",
       "    .dataframe thead th {\n",
       "        text-align: right;\n",
       "    }\n",
       "</style>\n",
       "<table border=\"1\" class=\"dataframe\">\n",
       "  <thead>\n",
       "    <tr style=\"text-align: right;\">\n",
       "      <th></th>\n",
       "      <th>fq1</th>\n",
       "      <th>fq2</th>\n",
       "    </tr>\n",
       "    <tr>\n",
       "      <th>sample</th>\n",
       "      <th></th>\n",
       "      <th></th>\n",
       "    </tr>\n",
       "  </thead>\n",
       "  <tbody>\n",
       "    <tr>\n",
       "      <th>ERR024604_tiny</th>\n",
       "      <td>../../data/fastq/tiny/ERR024604_tiny_1.fastq.gz</td>\n",
       "      <td>../../data/fastq/tiny/ERR024604_tiny_2.fastq.gz</td>\n",
       "    </tr>\n",
       "    <tr>\n",
       "      <th>ERR024605_tiny</th>\n",
       "      <td>../../data/fastq/tiny/ERR024605_tiny_1.fastq.gz</td>\n",
       "      <td>../../data/fastq/tiny/ERR024605_tiny_2.fastq.gz</td>\n",
       "    </tr>\n",
       "    <tr>\n",
       "      <th>ERR024606_tiny</th>\n",
       "      <td>../../data/fastq/tiny/ERR024606_tiny_1.fastq.gz</td>\n",
       "      <td>../../data/fastq/tiny/ERR024606_tiny_2.fastq.gz</td>\n",
       "    </tr>\n",
       "    <tr>\n",
       "      <th>ERR024607_tiny</th>\n",
       "      <td>../../data/fastq/tiny/ERR024607_tiny_1.fastq.gz</td>\n",
       "      <td>../../data/fastq/tiny/ERR024607_tiny_2.fastq.gz</td>\n",
       "    </tr>\n",
       "    <tr>\n",
       "      <th>ERR024608_tiny</th>\n",
       "      <td>../../data/fastq/tiny/ERR024608_tiny_1.fastq.gz</td>\n",
       "      <td>../../data/fastq/tiny/ERR024608_tiny_2.fastq.gz</td>\n",
       "    </tr>\n",
       "    <tr>\n",
       "      <th>ERR024609_tiny</th>\n",
       "      <td>../../data/fastq/tiny/ERR024609_tiny_1.fastq.gz</td>\n",
       "      <td>../../data/fastq/tiny/ERR024609_tiny_2.fastq.gz</td>\n",
       "    </tr>\n",
       "  </tbody>\n",
       "</table>\n",
       "</div>"
      ],
      "text/plain": [
       "                                                            fq1  \\\n",
       "sample                                                            \n",
       "ERR024604_tiny  ../../data/fastq/tiny/ERR024604_tiny_1.fastq.gz   \n",
       "ERR024605_tiny  ../../data/fastq/tiny/ERR024605_tiny_1.fastq.gz   \n",
       "ERR024606_tiny  ../../data/fastq/tiny/ERR024606_tiny_1.fastq.gz   \n",
       "ERR024607_tiny  ../../data/fastq/tiny/ERR024607_tiny_1.fastq.gz   \n",
       "ERR024608_tiny  ../../data/fastq/tiny/ERR024608_tiny_1.fastq.gz   \n",
       "ERR024609_tiny  ../../data/fastq/tiny/ERR024609_tiny_1.fastq.gz   \n",
       "\n",
       "                                                            fq2  \n",
       "sample                                                           \n",
       "ERR024604_tiny  ../../data/fastq/tiny/ERR024604_tiny_2.fastq.gz  \n",
       "ERR024605_tiny  ../../data/fastq/tiny/ERR024605_tiny_2.fastq.gz  \n",
       "ERR024606_tiny  ../../data/fastq/tiny/ERR024606_tiny_2.fastq.gz  \n",
       "ERR024607_tiny  ../../data/fastq/tiny/ERR024607_tiny_2.fastq.gz  \n",
       "ERR024608_tiny  ../../data/fastq/tiny/ERR024608_tiny_2.fastq.gz  \n",
       "ERR024609_tiny  ../../data/fastq/tiny/ERR024609_tiny_2.fastq.gz  "
      ]
     },
     "execution_count": 3,
     "metadata": {},
     "output_type": "execute_result"
    }
   ],
   "source": [
    "samples"
   ]
  },
  {
   "cell_type": "code",
   "execution_count": 6,
   "id": "a6dd5c7b",
   "metadata": {},
   "outputs": [
    {
     "name": "stderr",
     "output_type": "stream",
     "text": [
      "/tmp/ipykernel_1571971/2147266922.py:1: FutureWarning: Series.__getitem__ treating keys as positions is deprecated. In a future version, integer keys will always be treated as labels (consistent with DataFrame behavior). To access a value by position, use `ser.iloc[pos]`\n",
      "  command_1 = f\"ls \" + samples[\"fq1\"][0]\n"
     ]
    }
   ],
   "source": [
    "command_1 = f\"ls \" + samples[\"fq1\"][0]"
   ]
  },
  {
   "cell_type": "code",
   "execution_count": 7,
   "id": "d8ad41d0",
   "metadata": {},
   "outputs": [
    {
     "name": "stdout",
     "output_type": "stream",
     "text": [
      "../../data/fastq/tiny/ERR024604_tiny_1.fastq.gz\n"
     ]
    },
    {
     "data": {
      "text/plain": [
       "0"
      ]
     },
     "execution_count": 7,
     "metadata": {},
     "output_type": "execute_result"
    }
   ],
   "source": [
    "os.system(command_1)"
   ]
  },
  {
   "cell_type": "code",
   "execution_count": null,
   "id": "0ed08354",
   "metadata": {},
   "outputs": [],
   "source": []
  }
 ],
 "metadata": {
  "kernelspec": {
   "display_name": "bioseq",
   "language": "python",
   "name": "python3"
  },
  "language_info": {
   "codemirror_mode": {
    "name": "ipython",
    "version": 3
   },
   "file_extension": ".py",
   "mimetype": "text/x-python",
   "name": "python",
   "nbconvert_exporter": "python",
   "pygments_lexer": "ipython3",
   "version": "3.10.14"
  }
 },
 "nbformat": 4,
 "nbformat_minor": 5
}
